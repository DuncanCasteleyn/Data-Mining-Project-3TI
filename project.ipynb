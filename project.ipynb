{
 "cells": [
  {
   "cell_type": "code",
   "execution_count": null,
   "metadata": {},
   "outputs": [],
   "source": [
    "import numpy\n",
    "import pandas\n",
    "from mpl_toolkits.mplot3d import Axes3D\n",
    "import seaborn\n",
    "import matplotlib.pyplot as plt\n",
    "%pylab inline\n",
    "\n",
    "seaborn.set_style('whitegrid')\n",
    "\n",
    "database_df = pandas.read_csv(\"./datasets/homocide_reports_1980-2014.csv.gz\")\n",
    "\n",
    "database_df = (database_df.drop(['Record ID', 'Agency Code', 'Victim Ethnicity', 'Perpetrator Ethnicity',\n",
    "                                 'Record Source'], axis=1))\n",
    "\n",
    "Victim_Sex = database_df['Victim Sex'].values\n",
    "Victim_Age = database_df['Victim Age'].values\n",
    "# Victim_Age = Victim_Age.astype('int16')\n",
    "Perpetrator_Sex = database_df['Perpetrator Sex'].values\n",
    "Perpetrator_Age = database_df['Perpetrator Age'].values\n",
    "# Perpetrator_Age = Perpetrator_Age.astype('int16')\n",
    "Relationship = database_df['Relationship'].values\n",
    "Weapon = database_df['Weapon'].values\n",
    "Solved = database_df['Crime Solved'].values\n",
    "V_Race = database_df['Victim Race'].values\n",
    "P_Race = database_df['Perpetrator Race'].values\n",
    "Crime_Type = database_df['Crime Type'].values\n",
    "Agency_Name = database_df['Agency Name'].values\n",
    "Agency_Type = database_df['Agency Type'].values\n",
    "P_Count = database_df['Perpetrator Count'].values\n",
    "City = database_df['City'].values\n",
    "State = database_df['State'].values\n",
    "Year = database_df['Year'].values\n",
    "Month = database_df['Month'].values\n",
    "Rel_Category = database_df['Relationship'].values\n",
    "W_Category = database_df['Weapon'].values\n",
    "\n",
    "homicide = pandas.DataFrame(numpy.column_stack((Victim_Sex, Victim_Age, Perpetrator_Sex, Perpetrator_Age,\n",
    "                                                Relationship, Weapon, Solved, V_Race, P_Race, Crime_Type, Agency_Name,\n",
    "                                                Agency_Type,\n",
    "                                                Rel_Category, P_Count, City, State, Year, Month, W_Category)))\n",
    "homicide.columns = ['Victim_Sex', 'Victim_Age', 'Perpetrator_Sex', 'Perpetrator_Age', 'Relationship',\n",
    "                    'Weapon', 'Solved', 'V_Race', 'P_Race', 'Crime_Type', 'Agency_Name', 'Agency_Type',\n",
    "                    'Rel_Category', 'P_Count', 'City', 'State', 'Year', 'Month', 'W_Category']\n",
    "\n",
    "homicide.loc[(homicide['Relationship'] == 'Wife') | (homicide['Relationship'] == 'Ex-Wife') |\n",
    "             (homicide['Relationship'] == 'Girlfriend') |\n",
    "             (homicide['Relationship'] == 'Common-Law Wife'), 'Rel_Category'] = 'Partner-F'\n",
    "\n",
    "homicide.loc[(homicide['Relationship'] == 'Husband') | (homicide['Relationship'] == 'Ex-Husband') |\n",
    "             (homicide['Relationship'] == 'Boyfriend') |\n",
    "             (homicide['Relationship'] == 'Common-Law Husband'), 'Rel_Category'] = 'Partner-M'\n",
    "\n",
    "homicide.loc[(homicide['Relationship'] == 'Father') | (homicide['Relationship'] == 'In-Law') |\n",
    "             (homicide['Relationship'] == 'Mother') | (homicide['Relationship'] == 'Stepfather') |\n",
    "             (homicide['Relationship'] == 'Stepmother'), 'Rel_Category'] = 'Parent'\n",
    "\n",
    "homicide.loc[(homicide['Relationship'] == 'Daughter') | (homicide['Relationship'] == 'Son') |\n",
    "             (homicide['Relationship'] == 'Stepdaughter') |\n",
    "             (homicide['Relationship'] == 'Stepson'), 'Rel_Category'] = 'Children'\n",
    "\n",
    "homicide.loc[(homicide['Relationship'] == 'Brother') | (homicide['Relationship'] == 'Sister'),\n",
    "             'Rel_Category'] = 'Sibling'\n",
    "\n",
    "homicide.loc[(homicide['Relationship'] == 'Employee') | (homicide['Relationship'] == 'Employer'),\n",
    "             'Rel_Category'] = 'Work'\n",
    "\n",
    "homicide.loc[(homicide['Relationship'] == 'Boyfriend/Girlfriend') & (homicide['Victim_Sex'] == 'Female'),\n",
    "             'Rel_Category'] = 'Partner-F'\n",
    "\n",
    "homicide.loc[(homicide['Relationship'] == 'Boyfriend/Girlfriend') & ((homicide['Victim_Sex'] == 'Male') |\n",
    "                                                                     (homicide[\n",
    "                                                                          'Victim_Sex'] == 'Unknown')), 'Rel_Category'] = 'Partner-M'\n",
    "\n",
    "FV_MP = homicide[(homicide.Victim_Sex == 'Female') & (homicide.Perpetrator_Sex == 'Male')]\n",
    "FV_FP = homicide[(homicide.Victim_Sex == 'Female') & (homicide.Perpetrator_Sex == 'Female')]\n",
    "MV_MP = homicide[(homicide.Victim_Sex == 'Male') & (homicide.Perpetrator_Sex == 'Male')]\n",
    "MV_FP = homicide[(homicide.Victim_Sex == 'Male') & (homicide.Perpetrator_Sex == 'Female')]\n",
    "FV_UP = homicide[(homicide.Victim_Sex == 'Female') & (homicide.Perpetrator_Sex == 'Unknown')]\n",
    "MV_UP = homicide[(homicide.Victim_Sex == 'Male') & (homicide.Perpetrator_Sex == 'Unknown')]\n",
    "UV_UP = homicide[(homicide.Victim_Sex == 'Unknown') & (homicide.Perpetrator_Sex == 'Unknown')]\n",
    "\n",
    "database_df.head(2)"
   ]
  },
  {
   "cell_type": "code",
   "execution_count": null,
   "metadata": {},
   "outputs": [],
   "source": [
    "pandas.crosstab(homicide.Victim_Sex, homicide.Perpetrator_Sex)"
   ]
  },
  {
   "cell_type": "code",
   "execution_count": null,
   "metadata": {},
   "outputs": [],
   "source": [
    "pyplot.figure(figsize=(12, 12), facecolor='#efefef')\n",
    "seaborn.set()\n",
    "# ax.set_ticklabels(['0%', '20%', '75%', '100%'])\n",
    "ax = seaborn.heatmap(pandas.crosstab(homicide.Weapon, homicide.Perpetrator_Sex)\n",
    "                     .apply(lambda r: r / r.sum(), axis=1), annot=True, fmt=\".0%\", linewidths=.5, cmap='Blues')\n",
    "ax.set_title('Weapon Use vs Gender')\n",
    "cbar = ax.collections[0].colorbar\n",
    "cbar.set_ticks([0, .25, .50, .75, 1])\n",
    "cbar.set_ticklabels(['0%', '25%', '50%', '75%', '100%'])\n",
    "ax.plot()"
   ]
  },
  {
   "cell_type": "code",
   "execution_count": null,
   "metadata": {
    "collapsed": true
   },
   "outputs": [],
   "source": [
    "pyplot.figure(figsize=(12, 12), facecolor='#efefef')\n",
    "seaborn.set()\n",
    "# ax.set_ticklabels(['0%', '20%', '75%', '100%'])\n",
    "unknown_filter = homicide[homicide.Perpetrator_Sex != 'Unknown']\n",
    "ax = seaborn.heatmap(pandas.crosstab(unknown_filter.Weapon, unknown_filter.Perpetrator_Sex)\n",
    "                     .apply(lambda r: r / r.sum(), axis=1), annot=True, fmt=\".0%\", linewidths=.5, cmap='Blues')\n",
    "ax.set_title('Weapon Use vs Gender')\n",
    "cbar = ax.collections[0].colorbar\n",
    "cbar.set_ticks([0, .25, .50, .75, 1])\n",
    "cbar.set_ticklabels(['0%', '25%', '50%', '75%', '100%'])\n",
    "ax.plot()"
   ]
  },
  {
   "cell_type": "code",
   "execution_count": null,
   "metadata": {},
   "outputs": [],
   "source": [
    "\n",
    "seaborn.countplot(x = 'Month', data=database_df, palette=\"husl\")\n",
    "seaborn.plt.show()\n"
   ]
  },
  {
   "cell_type": "code",
   "execution_count": null,
   "metadata": {},
   "outputs": [],
   "source": [
    "seaborn.countplot(x = 'Perpetrator Age', data=database_df, palette=\"husl\")\n",
    "seaborn.plt.show()\n"
   ]
  },
  {
   "cell_type": "code",
   "execution_count": null,
   "metadata": {},
   "outputs": [],
   "source": [
    "seaborn.countplot(x = 'Perpetrator Race', data=database_df, palette=\"dark\")\n",
    "seaborn.plt.show()"
   ]
  },
  {
   "cell_type": "code",
   "execution_count": null,
   "metadata": {},
   "outputs": [],
   "source": [
    "\n",
    "\n",
    "plt.figure(figsize=(12,12),facecolor='#efefef')\n",
    "sns.set()\n",
    "# ax.set_ticklabels(['0%', '20%', '75%', '100%'])\n",
    "ax = sns.heatmap(pandas.crosstab(homicide.Victim_Sex,homicide.Weapon).apply(lambda r: r/r.sum(), axis=1), annot=True, fmt=\".0%\", linewidths=.5,cmap='Blues')\n",
    "ax.set_title('Perpetrator Gender vs Weapon Use')\n",
    "cbar = ax.collections[0].colorbar\n",
    "cbar.set_ticks([0, .25, .50, .75, 1])\n",
    "cbar.set_ticklabels(['0%', '25%', '50%',  '75%', '100%'])"
   ]
  },
  {
   "cell_type": "code",
   "execution_count": null,
   "metadata": {
    "collapsed": true
   },
   "outputs": [],
   "source": [
    "seaborn.countplot(x = 'State', data=database_df, palette=\"husl\")\n",
    "\n",
    "locs, labels = plt.xticks()\n",
    "plt.setp(labels, rotation=90)\n",
    "\n",
    "\n",
    "seaborn.plt.show()"
   ]
  },
  {
   "cell_type": "code",
   "execution_count": null,
   "metadata": {
    "collapsed": true
   },
   "outputs": [],
   "source": [
    "import matplotlib.pyplot\n",
    "import numpy\n",
    "import pandas\n",
    "from mpl_toolkits.mplot3d import Axes3D\n",
    "import seaborn\n",
    "import matplotlib.pyplot as plt\n",
    "%pylab inline\n",
    "\n",
    "seaborn.set_style('whitegrid')\n",
    "\n",
    "sexoff_df = pandas.read_csv(\"./datasets/Sex_Offenders.csv\")\n",
    "\n",
    "Last_Name = sexoff_df['LAST'].values\n",
    "First_Name = sexoff_df['FIRST'].values\n",
    "Block = sexoff_df['BLOCK'].values\n",
    "Gender = sexoff_df['GENDER'].values\n",
    "Race = sexoff_df['RACE'].values\n",
    "Birthdate = sexoff_df['BIRTH DATE'].values\n",
    "Age = sexoff_df['AGE'].values\n",
    "Height = sexoff_df['HEIGHT'].values\n",
    "Weight = sexoff_df['WEIGHT'].values\n",
    "Victim_Minor = sexoff_df['VICTIM MINOR'].values\n",
    "\n",
    "sexoff = pandas.DataFrame(numpy.column_stack((Last_Name, First_Name, Block, Gender,\n",
    "                                                Race, Birthdate, Age, Height, Weight, Victim_Minor)))\n",
    "\n",
    "sexoff.columns = ['Last_Name', 'First_Name', 'Block', 'Gender', 'Race',\n",
    "                    'Birthdate', 'Age', 'Height', 'Weight', 'Victim_Minor']\n",
    "\n",
    "sexoff_df.head(2)"
   ]
  },
  {
   "cell_type": "code",
   "execution_count": null,
   "metadata": {
    "collapsed": true
   },
   "outputs": [],
   "source": [
    "seaborn.countplot(x = 'RACE', data=sexoff_df, palette=\"dark\")\n",
    "seaborn.plt.show()"
   ]
  },
  {
   "cell_type": "code",
   "execution_count": null,
   "metadata": {
    "collapsed": true
   },
   "outputs": [],
   "source": [
    "seaborn.countplot(x = 'AGE', data=sexoff_df, palette=\"dark\")\n",
    "\n",
    "locs, labels = plt.xticks()\n",
    "plt.setp(labels, rotation=90)\n",
    "\n",
    "seaborn.plt.show()"
   ]
  },
  {
   "cell_type": "code",
   "execution_count": null,
   "metadata": {
    "collapsed": true
   },
   "outputs": [],
   "source": [
    "seaborn.countplot(x = 'GENDER', data=sexoff_df, palette=\"dark\")\n",
    "seaborn.plt.show()"
   ]
  },
  {
   "cell_type": "code",
   "execution_count": null,
   "metadata": {
    "collapsed": true
   },
   "outputs": [],
   "source": [
    "seaborn.countplot(x = 'HEIGHT', data=sexoff_df, palette=\"dark\")\n",
    "\n",
    "locs, labels = plt.xticks()\n",
    "plt.setp(labels, rotation=90)\n",
    "\n",
    "seaborn.plt.show()"
   ]
  },
  {
   "cell_type": "code",
   "execution_count": null,
   "metadata": {
    "collapsed": true
   },
   "outputs": [],
   "source": [
    "seaborn.countplot(x = 'VICTIM MINOR', data=sexoff_df, palette=\"dark\")\n",
    "seaborn.plt.show()"
   ]
  },
  {
   "cell_type": "code",
   "execution_count": null,
   "metadata": {
    "collapsed": true
   },
   "outputs": [],
   "source": [
    "sns.countplot(x='GENDER', hue= 'VICTIM MINOR', data = sexoff_df, palette=\"Paired\")\n",
    "sns.plt.show()"
   ]
  },
  {
   "cell_type": "code",
   "execution_count": null,
   "metadata": {
    "collapsed": true
   },
   "outputs": [],
   "source": [
    "import matplotlib.pyplot\n",
    "import numpy\n",
    "import pandas\n",
    "from mpl_toolkits.mplot3d import Axes3D\n",
    "import seaborn\n",
    "import matplotlib.pyplot as plt\n",
    "%pylab inline\n",
    "\n",
    "seaborn.set_style('whitegrid')\n",
    "\n",
    "gunoff_df = pandas.read_csv(\"./datasets/Gun_Offenders.csv\")\n",
    "\n",
    "Case_Number = gunoff_df['caseNumber'].values\n",
    "Created_Date = gunoff_df['created_date'].values\n",
    "Modified_Date = gunoff_df['modified_date'].values\n",
    "Last_Name = gunoff_df['lastName'].values\n",
    "First_Name = gunoff_df['firstName'].values\n",
    "Middle_Name = gunoff_df['middleName'].values\n",
    "Date_Of_Birth = gunoff_df['Date_Of_Birth'].values\n",
    "Sex = gunoff_df['sex'].values\n",
    "Race = gunoff_df['race'].values\n",
    "Full_Address = gunoff_df['full_address'].values\n",
    "City = gunoff_df['city'].values\n",
    "State = gunoff_df['state'].values\n",
    "Zip_Code = gunoff_df['zip_code'].values\n",
    "District = gunoff_df['district'].values\n",
    "Post = gunoff_df['post'].values\n",
    "Neighborhood = gunoff_df['neighborhood'].values\n",
    "Longitude = gunoff_df['Longitude'].values\n",
    "Latitude = gunoff_df['Latitude'].values\n",
    "Location = gunoff_df['Location 1'].values\n",
    "\n",
    "gunoff = pandas.DataFrame(numpy.column_stack((Case_Number, Created_Date, Modified_Date, Last_Name,\n",
    "                                                First_Name, Middle_Name, Date_Of_Birth, Sex, Race, Full_Address,\n",
    "                                             City, State, Zip_Code, District, Post, Neighborhood, Longitude,\n",
    "                                             Latitude, Location)))\n",
    "\n",
    "gunoff.columns = ['Case_Number', 'Created_Date', 'Modified_Date', 'Last_Name', 'First_Name',\n",
    "                    'Middle_Name', 'Date_Of_Birth', 'Sex', 'Race', 'Full_Address',\n",
    "                 'City', 'State', 'Zip_Code', 'District', 'Post', 'Neighborhood', 'Longitude',\n",
    "                  'Latitude', 'Location']\n",
    "\n",
    "gunoff.head(2)"
   ]
  },
  {
   "cell_type": "code",
   "execution_count": null,
   "metadata": {
    "collapsed": true
   },
   "outputs": [],
   "source": [
    "seaborn.countplot(x = 'race', data=gunoff_df, palette=\"dark\")\n",
    "seaborn.plt.show()"
   ]
  },
  {
   "cell_type": "code",
   "execution_count": null,
   "metadata": {
    "collapsed": true
   },
   "outputs": [],
   "source": [
    "seaborn.countplot(x = 'sex', data=gunoff_df, palette=\"dark\")\n",
    "seaborn.plt.show()"
   ]
  },
  {
   "cell_type": "code",
   "execution_count": null,
   "metadata": {
    "collapsed": true
   },
   "outputs": [],
   "source": [
    "seaborn.countplot(x = 'state', data=gunoff_df, palette=\"dark\")\n",
    "\n",
    "locs, labels = plt.xticks()\n",
    "plt.setp(labels, rotation=90)\n",
    "\n",
    "seaborn.plt.show()"
   ]
  },
  {
   "cell_type": "code",
   "execution_count": null,
   "metadata": {
    "collapsed": true
   },
   "outputs": [],
   "source": []
  }
 ],
 "metadata": {
  "kernelspec": {
   "display_name": "Python 3",
   "language": "python",
   "name": "python3"
  },
  "language_info": {
   "codemirror_mode": {
    "name": "ipython",
    "version": 3
   },
   "file_extension": ".py",
   "mimetype": "text/x-python",
   "name": "python",
   "nbconvert_exporter": "python",
   "pygments_lexer": "ipython3",
   "version": "3.6.1"
  }
 },
 "nbformat": 4,
 "nbformat_minor": 1
}
