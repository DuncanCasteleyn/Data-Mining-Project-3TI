{
 "cells": [
  {
   "cell_type": "markdown",
   "metadata": {},
   "source": [
    "# Imports"
   ]
  },
  {
   "cell_type": "code",
   "execution_count": null,
   "metadata": {},
   "outputs": [],
   "source": [
    "#%%time\n",
    "import numpy\n",
    "import geopandas\n",
    "import folium\n",
    "import pandas\n",
    "from mpl_toolkits.mplot3d import Axes3D\n",
    "import seaborn\n",
    "import matplotlib.pyplot as plt\n",
    "from ipywidgets import widgets\n",
    "from IPython.display import clear_output\n",
    "import os\n",
    "\n",
    "%matplotlib inline\n",
    "%pylab inline\n",
    "\n",
    "seaborn.set_style('whitegrid')\n",
    "\n",
    "print('numpy: ' + numpy.__version__)\n",
    "print('geopandas: ' + geopandas.__version__)\n",
    "print('folium: ' + folium.__version__)\n",
    "print('pandas: ' + pandas.__version__)\n",
    "print('seaborn: ' + seaborn.__version__)\n",
    "print('matplotlib: ' + matplotlib.__version__)"
   ]
  },
  {
   "cell_type": "markdown",
   "metadata": {},
   "source": [
    "# Homicide reports 1980-2014\n",
    "## Reading & filtering data\n",
    "### First attempt to read data"
   ]
  },
  {
   "cell_type": "code",
   "execution_count": null,
   "metadata": {},
   "outputs": [],
   "source": [
    "homicide = pandas.read_csv(\"./datasets/homocide_reports_1980-2014.csv.gz\")\n",
    "# homicide.columns returns the column name on index 16\n",
    "homicide[homicide.columns[16]].head(5)"
   ]
  },
  {
   "cell_type": "markdown",
   "metadata": {},
   "source": [
    "### Perpetrator age contains int try and convert to int"
   ]
  },
  {
   "cell_type": "code",
   "execution_count": null,
   "metadata": {},
   "outputs": [],
   "source": [
    "# Abuse python type converter to find what our dirty data is\n",
    "try:\n",
    "    #homicide['Perpetrator Age'].apply(pandas.to_numeric)\n",
    "    homicide['Perpetrator Age'].astype(int)\n",
    "except ValueError as e:\n",
    "    print(str(type(e).__name__) + \": \" + str(e.args))"
   ]
  },
  {
   "cell_type": "markdown",
   "metadata": {},
   "source": [
    "### Check dirty data field"
   ]
  },
  {
   "cell_type": "code",
   "execution_count": null,
   "metadata": {},
   "outputs": [],
   "source": [
    "homicide[homicide['Perpetrator Age'] == ' ']"
   ]
  },
  {
   "cell_type": "code",
   "execution_count": null,
   "metadata": {
    "scrolled": false
   },
   "outputs": [],
   "source": [
    "homicide.iloc[634666]"
   ]
  },
  {
   "cell_type": "code",
   "execution_count": null,
   "metadata": {},
   "outputs": [],
   "source": [
    "homicide[(homicide['Crime Solved'] != 'No') & (homicide['Crime Solved'] != 'Yes')]"
   ]
  },
  {
   "cell_type": "markdown",
   "metadata": {},
   "source": [
    "### Filter and generalize data and save to a csv for future use"
   ]
  },
  {
   "cell_type": "code",
   "execution_count": null,
   "metadata": {},
   "outputs": [],
   "source": [
    "%%time\n",
    "\n",
    "homicide = pandas.read_csv(\"./datasets/homocide_reports_1980-2014.csv.gz\", dtype={\"Perpetrator Age\": object}) \\\n",
    "                            .drop(['Record ID', 'Agency Code'], axis=1)\n",
    "\n",
    "# loc[row index, column index] when assiging a value the column index is important.\n",
    "homicide.loc[homicide['Crime Solved'] == 'No', 'Crime Solved'] = False\n",
    "homicide['Crime Solved'] = homicide['Crime Solved'].astype(bool)\n",
    "\n",
    "# Perpetrator Age contains dirty data\n",
    "# homicide['Perpetrator Age'] = homicide['Perpetrator Age'].replace(' ', 0).apply(pandas.to_numeric)\n",
    "\n",
    "homicide.loc[homicide['Perpetrator Age'] == ' ', 'Perpetrator Age'] = 0\n",
    "# set dtype to int\n",
    "homicide['Perpetrator Age'] = homicide['Perpetrator Age'].astype(int)\n",
    "\n",
    "homicide['General relation'] = homicide['Relationship']\n",
    "homicide.loc[(homicide['Relationship'] == 'Wife') | (homicide['Relationship'] == 'Ex-Wife') |\n",
    "             (homicide['Relationship'] == 'Girlfriend') |\n",
    "             (homicide['Relationship'] == 'Common-Law Wife'), 'General relation'] = 'Partner-F'\n",
    "\n",
    "homicide.loc[(homicide['Relationship'] == 'Husband') | (homicide['Relationship'] == 'Ex-Husband') |\n",
    "             (homicide['Relationship'] == 'Boyfriend') |\n",
    "             (homicide['Relationship'] == 'Common-Law Husband'), 'General relation'] = 'Partner-M'\n",
    "\n",
    "homicide.loc[(homicide['Relationship'] == 'Father') | (homicide['Relationship'] == 'In-Law') |\n",
    "             (homicide['Relationship'] == 'Mother') | (homicide['Relationship'] == 'Stepfather') |\n",
    "             (homicide['Relationship'] == 'Stepmother'), 'General relation'] = 'Parent'\n",
    "\n",
    "homicide.loc[(homicide['Relationship'] == 'Daughter') | (homicide['Relationship'] == 'Son') |\n",
    "             (homicide['Relationship'] == 'Stepdaughter') |\n",
    "             (homicide['Relationship'] == 'Stepson'), 'General relation'] = 'Children'\n",
    "\n",
    "homicide.loc[(homicide['Relationship'] == 'Brother') | (homicide['Relationship'] == 'Sister'),\n",
    "             'General relation'] = 'Sibling'\n",
    "\n",
    "homicide.loc[(homicide['Relationship'] == 'Employee') | (homicide['Relationship'] == 'Employer'),\n",
    "             'General relation'] = 'Work'\n",
    "\n",
    "homicide.loc[(homicide['Relationship'] == 'Boyfriend/Girlfriend') & (homicide['Victim Sex'] == 'Female'),\n",
    "             'General relation'] = 'Partner-F'\n",
    "\n",
    "homicide.loc[(homicide['Relationship'] == 'Boyfriend/Girlfriend') & ((homicide['Victim Sex'] == 'Male') |\n",
    "            (homicide['Victim Sex'] == 'Unknown')), 'General relation'] = 'Partner-M'\n",
    "\n",
    "homicide.to_csv('./datasets/homocide_reports_1980-2014_filtered.csv.gz', index = False, compression = 'gzip')\n",
    "\n",
    "homicide"
   ]
  },
  {
   "cell_type": "markdown",
   "metadata": {},
   "source": [
    "### Load pre-filtered csv"
   ]
  },
  {
   "cell_type": "code",
   "execution_count": null,
   "metadata": {},
   "outputs": [],
   "source": [
    "%time homicide = pandas.read_csv(\"./datasets/homocide_reports_1980-2014_filtered.csv.gz\")"
   ]
  },
  {
   "cell_type": "markdown",
   "metadata": {},
   "source": [
    "### Check if we have null fields in our columns"
   ]
  },
  {
   "cell_type": "code",
   "execution_count": null,
   "metadata": {},
   "outputs": [],
   "source": [
    "%time homicide.isnull().any()"
   ]
  },
  {
   "cell_type": "markdown",
   "metadata": {},
   "source": [
    "### Check types per comumn"
   ]
  },
  {
   "cell_type": "code",
   "execution_count": null,
   "metadata": {},
   "outputs": [],
   "source": [
    "%time homicide.dtypes"
   ]
  },
  {
   "cell_type": "markdown",
   "metadata": {},
   "source": [
    "### Print description of our data set"
   ]
  },
  {
   "cell_type": "code",
   "execution_count": null,
   "metadata": {},
   "outputs": [],
   "source": [
    "%time homicide.describe()"
   ]
  },
  {
   "cell_type": "markdown",
   "metadata": {},
   "source": [
    "## Show victim sex"
   ]
  },
  {
   "cell_type": "code",
   "execution_count": null,
   "metadata": {},
   "outputs": [],
   "source": [
    "inputGender = widgets.Text(description=\"Perpetrator Sex:\")\n",
    "display(inputGender)\n",
    "\n",
    "def submit(sender):\n",
    "    clear_output()\n",
    "    display(inputGender)\n",
    "    gender = inputGender.value\n",
    "    homicidefiltered = homicide[homicide['Perpetrator Sex']== gender]\n",
    "    seaborn.countplot(x=homicidefiltered['Victim Sex'], data=homicidefiltered)\n",
    "    \n",
    "inputGender.on_submit(submit)"
   ]
  },
  {
   "cell_type": "markdown",
   "metadata": {},
   "source": [
    "### Show pepetrator sex and victim sex"
   ]
  },
  {
   "cell_type": "code",
   "execution_count": null,
   "metadata": {},
   "outputs": [],
   "source": [
    "%time pandas.crosstab(homicide['Victim Sex'], homicide['Perpetrator Sex'])"
   ]
  },
  {
   "cell_type": "markdown",
   "metadata": {},
   "source": [
    "### Show weapon use by sex"
   ]
  },
  {
   "cell_type": "code",
   "execution_count": null,
   "metadata": {},
   "outputs": [],
   "source": [
    "%%time\n",
    "\n",
    "pyplot.figure(figsize=(12, 12), facecolor='#efefef')\n",
    "seaborn.set()\n",
    "ax = seaborn.heatmap(pandas.crosstab(homicide.Weapon, homicide['Perpetrator Sex'])\n",
    "                     .apply(lambda r: r / r.sum(), axis=1), annot=True, fmt=\".0%\", linewidths=.5, cmap='Blues')\n",
    "ax.set_title('Weapon Use vs Gender')\n",
    "cbar = ax.collections[0].colorbar\n",
    "cbar.set_ticks([0, .25, .50, .75, 1])\n",
    "cbar.set_ticklabels(['0%', '25%', '50%', '75%', '100%'])\n",
    "ax.plot()"
   ]
  },
  {
   "cell_type": "markdown",
   "metadata": {},
   "source": [
    "### Show weapon use by sex with unkown filtered out."
   ]
  },
  {
   "cell_type": "code",
   "execution_count": null,
   "metadata": {},
   "outputs": [],
   "source": [
    "%%time\n",
    "\n",
    "pyplot.figure(figsize=(12, 12), facecolor='#efefef')\n",
    "seaborn.set()\n",
    "# ax.set_ticklabels(['0%', '20%', '75%', '100%'])\n",
    "unknown_filter = homicide[homicide['Perpetrator Sex'] != 'Unknown']\n",
    "ax = seaborn.heatmap(pandas.crosstab(unknown_filter.Weapon, unknown_filter['Perpetrator Sex'])\n",
    "                     .apply(lambda r: r / r.sum(), axis=1), annot=True, fmt=\".0%\", linewidths=.5, cmap='Blues')\n",
    "ax.set_title('Weapon Use vs Gender')\n",
    "cbar = ax.collections[0].colorbar\n",
    "cbar.set_ticks([0, .25, .50, .75, 1])\n",
    "cbar.set_ticklabels(['0%', '25%', '50%', '75%', '100%'])\n",
    "ax.plot()"
   ]
  },
  {
   "cell_type": "markdown",
   "metadata": {},
   "source": [
    "# Favoriet wapen man vs vrouw"
   ]
  },
  {
   "cell_type": "code",
   "execution_count": null,
   "metadata": {},
   "outputs": [],
   "source": [
    "%%time\n",
    "\n",
    "Male_Filter = unknown_filter.loc[unknown_filter['Perpetrator Sex'] == \"Male\"]#['Weapon']\n",
    "Female_Filter = unknown_filter.loc[unknown_filter['Perpetrator Sex'] == \"Female\"]##['Weapon']"
   ]
  },
  {
   "cell_type": "code",
   "execution_count": null,
   "metadata": {},
   "outputs": [],
   "source": [
    "s = seaborn.factorplot(x='Weapon', data=Male_Filter,kind=\"count\", aspect=3,\n",
    "                      order=['Handgun','Knife','Blunt Object', 'Strangulation', 'Rifle', 'Firearm',\n",
    "                       'Shotgun', 'Fall',  'Drowning', 'Suffocation', \n",
    "                       'Fire', 'Drugs', 'Explosives', 'Gun', 'Poison','Unknown' ])\n",
    "# s.set_xticklabels(rotation=90)\n",
    "# plt.ylim(0,300000)"
   ]
  },
  {
   "cell_type": "code",
   "execution_count": null,
   "metadata": {},
   "outputs": [],
   "source": [
    "s = seaborn.factorplot(x='Weapon', data=Female_Filter,kind=\"count\", aspect=3,\n",
    "                       order=['Handgun','Knife','Blunt Object', 'Strangulation', 'Rifle', 'Firearm',\n",
    "                       'Shotgun', 'Fall',  'Drowning', 'Suffocation',\n",
    "                       'Fire', 'Drugs', 'Explosives', 'Gun', 'Poison','Unknown', ])\n",
    "s.set_xticklabels(rotation=90)"
   ]
  },
  {
   "cell_type": "markdown",
   "metadata": {},
   "source": [
    "### Amount of homicides per month"
   ]
  },
  {
   "cell_type": "code",
   "execution_count": null,
   "metadata": {
    "scrolled": false
   },
   "outputs": [],
   "source": [
    "%%time\n",
    "\n",
    "s = seaborn.countplot(x='Month', data=homicide, palette=\"husl\")"
   ]
  },
  {
   "cell_type": "markdown",
   "metadata": {},
   "source": [
    "### Show perpetrator age with unkown ages filtered out"
   ]
  },
  {
   "cell_type": "code",
   "execution_count": null,
   "metadata": {},
   "outputs": [],
   "source": [
    "%%time\n",
    "\n",
    "s = seaborn.factorplot(x='Perpetrator Age', data=homicide[homicide['Perpetrator Age'] != 0],\n",
    "                        kind=\"count\", aspect=4)\n",
    "s.set_xticklabels(rotation=90)"
   ]
  },
  {
   "cell_type": "markdown",
   "metadata": {},
   "source": [
    "### Show perpetrator age with unkown ages filtered out grouped by perpetrator age"
   ]
  },
  {
   "cell_type": "code",
   "execution_count": null,
   "metadata": {},
   "outputs": [],
   "source": [
    "bins = [0,10,15,20,25,30,35,40,45,50,55,60,65,70,75,80,85,90,np.inf]\n",
    "labels = ['1-10','10 - 15','15 - 20','20 - 25','25 - 30','30 - 35','35 - 40','40 - 45','45 - 50','50 - 55','55 - 60','60 - 65','65 - 70','70 - 75','75 - 80','80 - 85', '85 - 90', '90+']\n",
    "age_groups = pandas.cut(homicide['Perpetrator Age'], bins, labels=labels)\n",
    "homicide['Age group'] = age_groups\n",
    "\n",
    "s = seaborn.factorplot(x='Age group', data=homicide[homicide['Perpetrator Age'] != 0],\n",
    "                        kind=\"count\", aspect=4)\n",
    "s.set_xticklabels(rotation=90)"
   ]
  },
  {
   "cell_type": "markdown",
   "metadata": {},
   "source": [
    "### Show homcide count by race"
   ]
  },
  {
   "cell_type": "code",
   "execution_count": null,
   "metadata": {},
   "outputs": [],
   "source": [
    "%%time\n",
    "\n",
    "seaborn.countplot(x='Perpetrator Race', data=homicide, palette=\"dark\")"
   ]
  },
  {
   "cell_type": "markdown",
   "metadata": {},
   "source": [
    "### Pepetrator gender vs weapon used"
   ]
  },
  {
   "cell_type": "code",
   "execution_count": null,
   "metadata": {},
   "outputs": [],
   "source": [
    "%%time\n",
    "\n",
    "plt.figure(figsize=(12, 12), facecolor='#efefef')\n",
    "seaborn.set()\n",
    "# ax.set_ticklabels(['0%', '25%', '75%', '100%'])\n",
    "ax = seaborn.heatmap(pandas.crosstab(homicide['Perpetrator Sex'], homicide.Weapon).apply(lambda r: r / r.sum(), axis=1),\n",
    "                     annot=True, fmt=\".0%\", linewidths=.5, cmap='Blues')\n",
    "ax.set_title('Perpetrator Gender vs Weapon Use')\n",
    "cbar = ax.collections[0].colorbar\n",
    "cbar.set_ticks([0, .25, .50, .75, 1])\n",
    "cbar.set_ticklabels(['0%', '25%', '50%', '75%', '100%'])\n"
   ]
  },
  {
   "cell_type": "markdown",
   "metadata": {},
   "source": [
    "### Count of homcides per state"
   ]
  },
  {
   "cell_type": "code",
   "execution_count": null,
   "metadata": {},
   "outputs": [],
   "source": [
    "%%time\n",
    "\n",
    "seaborn.countplot(x='State', data=homicide, palette=\"husl\")\n",
    "\n",
    "locs, labels = plt.xticks()\n",
    "plt.setp(labels, rotation=90)"
   ]
  },
  {
   "cell_type": "markdown",
   "metadata": {},
   "source": [
    "# Sex offenders\n",
    "## Read data set"
   ]
  },
  {
   "cell_type": "code",
   "execution_count": null,
   "metadata": {},
   "outputs": [],
   "source": [
    "%%time\n",
    "\n",
    "sexoff = pandas.read_csv(\"./datasets/Sex_Offenders.csv\", dtype={\"AGE\": int})"
   ]
  },
  {
   "cell_type": "markdown",
   "metadata": {},
   "source": [
    "## Show data"
   ]
  },
  {
   "cell_type": "code",
   "execution_count": null,
   "metadata": {},
   "outputs": [],
   "source": [
    "%time sexoff"
   ]
  },
  {
   "cell_type": "markdown",
   "metadata": {},
   "source": [
    "## Check if tables contain null"
   ]
  },
  {
   "cell_type": "code",
   "execution_count": null,
   "metadata": {},
   "outputs": [],
   "source": [
    "%time sexoff.isnull().any()"
   ]
  },
  {
   "cell_type": "markdown",
   "metadata": {},
   "source": [
    "## Check data types"
   ]
  },
  {
   "cell_type": "code",
   "execution_count": null,
   "metadata": {},
   "outputs": [],
   "source": [
    "%time sexoff.dtypes"
   ]
  },
  {
   "cell_type": "markdown",
   "metadata": {},
   "source": [
    "## Show sex offenders by race"
   ]
  },
  {
   "cell_type": "code",
   "execution_count": null,
   "metadata": {},
   "outputs": [],
   "source": [
    "%%time\n",
    "\n",
    "seaborn.countplot(x='RACE', data=sexoff, palette=\"dark\")\n",
    "\n",
    "locs, labels = plt.xticks()\n",
    "plt.setp(labels, rotation=60)\n",
    "\n",
    "seaborn.plt.show()\n"
   ]
  },
  {
   "cell_type": "markdown",
   "metadata": {},
   "source": [
    "## Show amount of sex offenders by age when crime was commited"
   ]
  },
  {
   "cell_type": "code",
   "execution_count": null,
   "metadata": {},
   "outputs": [],
   "source": [
    "%%time\n",
    "\n",
    "seaborn.countplot(x='AGE', data=sexoff, palette=\"dark\")\n",
    "\n",
    "locs, labels = plt.xticks()\n",
    "plt.setp(labels, rotation=90)"
   ]
  },
  {
   "cell_type": "markdown",
   "metadata": {},
   "source": [
    "# Show amount of sex offenders grouped by age when crime was commited "
   ]
  },
  {
   "cell_type": "code",
   "execution_count": null,
   "metadata": {},
   "outputs": [],
   "source": [
    "%%time\n",
    "\n",
    "bins = [0,10,15,20,25,30,35,40,45,50,55,60,65,70,75,80,85,90,np.inf]\n",
    "labels = ['1-10','10 - 15','15 - 20','20 - 25','25 - 30','30 - 35','35 - 40','40 - 45','45 - 50','50 - 55','55 - 60','60 - 65','65 - 70','70 - 75','75 - 80','80 - 85', '85 - 90', '90+']\n",
    "age_groups = pandas.cut(sexoff.AGE, bins, labels=labels)\n",
    "sexoff['Age group'] = age_groups\n",
    "\n",
    "seaborn.countplot(x='Age group', data=sexoff, palette=\"dark\")\n",
    "\n",
    "locs, labels = plt.xticks()\n",
    "plt.setp(labels, rotation=90)"
   ]
  },
  {
   "cell_type": "markdown",
   "metadata": {},
   "source": [
    "## Show amount of sex offenders by gender"
   ]
  },
  {
   "cell_type": "code",
   "execution_count": null,
   "metadata": {},
   "outputs": [],
   "source": [
    "%%time\n",
    "\n",
    "seaborn.countplot(x='GENDER', data=sexoff, palette=\"dark\")"
   ]
  },
  {
   "cell_type": "markdown",
   "metadata": {
    "collapsed": true
   },
   "source": [
    "## Show amount of sex offenders by height"
   ]
  },
  {
   "cell_type": "code",
   "execution_count": null,
   "metadata": {},
   "outputs": [],
   "source": [
    "%%time\n",
    "\n",
    "seaborn.countplot(x='HEIGHT', data=sexoff, palette=\"dark\")\n",
    "\n",
    "locs, labels = plt.xticks()\n",
    "plt.setp(labels, rotation=90)"
   ]
  },
  {
   "cell_type": "markdown",
   "metadata": {},
   "source": [
    "## Show amount of minor victims"
   ]
  },
  {
   "cell_type": "code",
   "execution_count": null,
   "metadata": {},
   "outputs": [],
   "source": [
    "%%time\n",
    "\n",
    "seaborn.countplot(x='VICTIM MINOR', data=sexoff, palette=\"dark\")"
   ]
  },
  {
   "cell_type": "markdown",
   "metadata": {},
   "source": [
    "## Show amount of minor and no minor victims by targeted by offender sex"
   ]
  },
  {
   "cell_type": "code",
   "execution_count": null,
   "metadata": {
    "scrolled": true
   },
   "outputs": [],
   "source": [
    "%%time\n",
    "\n",
    "seaborn.countplot(x='GENDER', hue='VICTIM MINOR', data=sexoff, palette=\"Paired\")"
   ]
  },
  {
   "cell_type": "markdown",
   "metadata": {},
   "source": [
    "# Gun offenders in chicago\n",
    "## Read data"
   ]
  },
  {
   "cell_type": "code",
   "execution_count": null,
   "metadata": {},
   "outputs": [],
   "source": [
    "%%time\n",
    "\n",
    "gunoff = pandas.read_csv(\"./datasets/Gun_Offenders.csv\")"
   ]
  },
  {
   "cell_type": "markdown",
   "metadata": {},
   "source": [
    "## Print first 10 rows"
   ]
  },
  {
   "cell_type": "code",
   "execution_count": null,
   "metadata": {},
   "outputs": [],
   "source": [
    "%time gunoff"
   ]
  },
  {
   "cell_type": "markdown",
   "metadata": {},
   "source": [
    "## Check if our columns contains null data"
   ]
  },
  {
   "cell_type": "code",
   "execution_count": null,
   "metadata": {},
   "outputs": [],
   "source": [
    "%time gunoff.isnull().any()"
   ]
  },
  {
   "cell_type": "markdown",
   "metadata": {},
   "source": [
    "## Check which types our columns contains"
   ]
  },
  {
   "cell_type": "code",
   "execution_count": null,
   "metadata": {},
   "outputs": [],
   "source": [
    "%time gunoff.dtypes"
   ]
  },
  {
   "cell_type": "markdown",
   "metadata": {},
   "source": [
    "## Show amount of gun offenders by race"
   ]
  },
  {
   "cell_type": "code",
   "execution_count": null,
   "metadata": {},
   "outputs": [],
   "source": [
    "%%time\n",
    "\n",
    "seaborn.countplot(x='race', data=gunoff, palette=\"dark\")"
   ]
  },
  {
   "cell_type": "markdown",
   "metadata": {},
   "source": [
    "## Show amount of gun offenders by Sex"
   ]
  },
  {
   "cell_type": "code",
   "execution_count": null,
   "metadata": {
    "scrolled": false
   },
   "outputs": [],
   "source": [
    "%%time\n",
    "\n",
    "seaborn.countplot(x='sex', data=gunoff, palette=\"dark\")"
   ]
  },
  {
   "cell_type": "markdown",
   "metadata": {},
   "source": [
    "## Show ammount of gun offenders per state"
   ]
  },
  {
   "cell_type": "code",
   "execution_count": null,
   "metadata": {},
   "outputs": [],
   "source": [
    "%%time\n",
    "\n",
    "seaborn.countplot(x='state', data=gunoff, palette=\"dark\")\n",
    "\n",
    "locs, labels = plt.xticks()\n",
    "plt.setp(labels, rotation=90)"
   ]
  },
  {
   "cell_type": "markdown",
   "metadata": {
    "collapsed": true
   },
   "source": [
    "# Map US With Homicide rates per State\n",
    "\n"
   ]
  },
  {
   "cell_type": "code",
   "execution_count": null,
   "metadata": {},
   "outputs": [],
   "source": [
    "%%time\n",
    "\n",
    "homicides_per_state = pandas.read_csv(\"./datasets/homicides_per_state.csv\")\n"
   ]
  },
  {
   "cell_type": "code",
   "execution_count": null,
   "metadata": {
    "scrolled": false
   },
   "outputs": [],
   "source": [
    "#%%time\n",
    " \n",
    "\n",
    "\n",
    "us_states = os.path.join('datasets', 'us-states.json')\n",
    "\n",
    "\n",
    "\n",
    "map = folium.Map(location=[48, -102], zoom_start=3)\n",
    "\n",
    "map.choropleth(geo_data=us_states, \n",
    "               data=homicides_per_state,\n",
    "               columns=['STATE', 'RATE'],\n",
    "               key_on='feature.id',\n",
    "               fill_color='YlOrRd',\n",
    "              legend_name='Homicide Rate (%)')            \n",
    "map"
   ]
  },
  {
   "cell_type": "markdown",
   "metadata": {},
   "source": [
    "## Map US with Firearm mortality rates per state:"
   ]
  },
  {
   "cell_type": "code",
   "execution_count": null,
   "metadata": {},
   "outputs": [],
   "source": [
    "%%time\n",
    "\n",
    "firearms = pandas.read_csv(\"./datasets/firearms.csv\")\n"
   ]
  },
  {
   "cell_type": "code",
   "execution_count": null,
   "metadata": {},
   "outputs": [],
   "source": [
    "map = folium.Map(location=[48, -102], zoom_start=3)\n",
    "\n",
    "map.choropleth(geo_data=us_states, \n",
    "               data=firearms,\n",
    "               columns=['STATE', 'RATE'],\n",
    "               key_on='feature.id',\n",
    "               fill_color='YlOrRd',\n",
    "              legend_name='Gun Mortality Rate (%)')            \n",
    "map"
   ]
  },
  {
   "cell_type": "code",
   "execution_count": null,
   "metadata": {
    "collapsed": true
   },
   "outputs": [],
   "source": []
  }
 ],
 "metadata": {
  "kernelspec": {
   "display_name": "Python 3",
   "language": "python",
   "name": "python3"
  },
  "language_info": {
   "codemirror_mode": {
    "name": "ipython",
    "version": 3
   },
   "file_extension": ".py",
   "mimetype": "text/x-python",
   "name": "python",
   "nbconvert_exporter": "python",
   "pygments_lexer": "ipython3",
   "version": "3.6.2"
  }
 },
 "nbformat": 4,
 "nbformat_minor": 1
}
