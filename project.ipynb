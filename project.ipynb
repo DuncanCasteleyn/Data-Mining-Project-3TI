{
 "cells": [
  {
   "cell_type": "code",
   "execution_count": null,
   "metadata": {},
   "outputs": [],
   "source": [
    "%%time\n",
    "\n",
    "import numpy\n",
    "import pandas\n",
    "from mpl_toolkits.mplot3d import Axes3D\n",
    "import seaborn\n",
    "import matplotlib.pyplot as plt\n",
    "\n",
    "%matplotlib inline \n",
    "%pylab inline\n",
    "\n",
    "seaborn.set_style('whitegrid')"
   ]
  },
  {
   "cell_type": "code",
   "execution_count": null,
   "metadata": {},
   "outputs": [],
   "source": [
    "%%time\n",
    "\n",
    "homicide = pandas.read_csv(\"./datasets/homocide_reports_1980-2014.csv.gz\") \\\n",
    "        .drop(['Record ID', 'Agency Code', 'Victim Ethnicity', 'Perpetrator Ethnicity', 'Record Source'], axis=1)\n",
    "\n",
    "homicide.loc[(homicide['Relationship'] == 'Wife') | (homicide['Relationship'] == 'Ex-Wife') |\n",
    "             (homicide['Relationship'] == 'Girlfriend') |\n",
    "             (homicide['Relationship'] == 'Common-Law Wife'), 'Rel_Category'] = 'Partner-F'\n",
    "\n",
    "homicide.loc[(homicide['Relationship'] == 'Husband') | (homicide['Relationship'] == 'Ex-Husband') |\n",
    "             (homicide['Relationship'] == 'Boyfriend') |\n",
    "             (homicide['Relationship'] == 'Common-Law Husband'), 'Rel_Category'] = 'Partner-M'\n",
    "\n",
    "homicide.loc[(homicide['Relationship'] == 'Father') | (homicide['Relationship'] == 'In-Law') |\n",
    "             (homicide['Relationship'] == 'Mother') | (homicide['Relationship'] == 'Stepfather') |\n",
    "             (homicide['Relationship'] == 'Stepmother'), 'Rel_Category'] = 'Parent'\n",
    "\n",
    "homicide.loc[(homicide['Relationship'] == 'Daughter') | (homicide['Relationship'] == 'Son') |\n",
    "             (homicide['Relationship'] == 'Stepdaughter') |\n",
    "             (homicide['Relationship'] == 'Stepson'), 'Rel_Category'] = 'Children'\n",
    "\n",
    "homicide.loc[(homicide['Relationship'] == 'Brother') | (homicide['Relationship'] == 'Sister'),\n",
    "             'Rel_Category'] = 'Sibling'\n",
    "\n",
    "homicide.loc[(homicide['Relationship'] == 'Employee') | (homicide['Relationship'] == 'Employer'),\n",
    "             'Rel_Category'] = 'Work'\n",
    "\n",
    "homicide.loc[(homicide['Relationship'] == 'Boyfriend/Girlfriend') & (homicide['Victim Sex'] == 'Female'),\n",
    "             'Rel_Category'] = 'Partner-F'\n",
    "\n",
    "homicide.loc[(homicide['Relationship'] == 'Boyfriend/Girlfriend') & ((homicide['Victim Sex'] == 'Male') |\n",
    "                                                                     (homicide[\n",
    "                                                                          'Victim Sex'] == 'Unknown')), 'Rel_Category'] = 'Partner-M'"
   ]
  },
  {
   "cell_type": "code",
   "execution_count": null,
   "metadata": {},
   "outputs": [],
   "source": [
    "%time homicide.head(10)"
   ]
  },
  {
   "cell_type": "code",
   "execution_count": null,
   "metadata": {},
   "outputs": [],
   "source": [
    "%time homicide.isnull().any()"
   ]
  },
  {
   "cell_type": "code",
   "execution_count": null,
   "metadata": {},
   "outputs": [],
   "source": [
    "%time homicide.dtypes"
   ]
  },
  {
   "cell_type": "code",
   "execution_count": null,
   "metadata": {},
   "outputs": [],
   "source": [
    "%time homicide.describe()"
   ]
  },
  {
   "cell_type": "code",
   "execution_count": null,
   "metadata": {},
   "outputs": [],
   "source": [
    "%time pandas.crosstab(homicide['Victim Sex'], homicide['Perpetrator Sex'])"
   ]
  },
  {
   "cell_type": "code",
   "execution_count": null,
   "metadata": {},
   "outputs": [],
   "source": [
    "%%time\n",
    "\n",
    "pyplot.figure(figsize=(12, 12), facecolor='#efefef')\n",
    "seaborn.set()\n",
    "ax = seaborn.heatmap(pandas.crosstab(homicide.Weapon, homicide['Perpetrator Sex'])\n",
    "                     .apply(lambda r: r / r.sum(), axis=1), annot=True, fmt=\".0%\", linewidths=.5, cmap='Blues')\n",
    "ax.set_title('Weapon Use vs Gender')\n",
    "cbar = ax.collections[0].colorbar\n",
    "cbar.set_ticks([0, .25, .50, .75, 1])\n",
    "cbar.set_ticklabels(['0%', '25%', '50%', '75%', '100%'])\n",
    "ax.plot()"
   ]
  },
  {
   "cell_type": "code",
   "execution_count": null,
   "metadata": {},
   "outputs": [],
   "source": [
    "%%time\n",
    "\n",
    "pyplot.figure(figsize=(12, 12), facecolor='#efefef')\n",
    "seaborn.set()\n",
    "# ax.set_ticklabels(['0%', '20%', '75%', '100%'])\n",
    "unknown_filter = homicide[homicide['Perpetrator Sex'] != 'Unknown']\n",
    "ax = seaborn.heatmap(pandas.crosstab(unknown_filter.Weapon, unknown_filter['Perpetrator Sex'])\n",
    "                     .apply(lambda r: r / r.sum(), axis=1), annot=True, fmt=\".0%\", linewidths=.5, cmap='Blues')\n",
    "ax.set_title('Weapon Use vs Gender')\n",
    "cbar = ax.collections[0].colorbar\n",
    "cbar.set_ticks([0, .25, .50, .75, 1])\n",
    "cbar.set_ticklabels(['0%', '25%', '50%', '75%', '100%'])\n",
    "ax.plot()"
   ]
  },
  {
   "cell_type": "code",
   "execution_count": null,
   "metadata": {},
   "outputs": [],
   "source": [
    "%%time\n",
    "\n",
    "seaborn.countplot(x = 'Month', data=homicide, palette=\"husl\")\n",
    "seaborn.plt.show()"
   ]
  },
  {
   "cell_type": "code",
   "execution_count": null,
   "metadata": {},
   "outputs": [],
   "source": [
    "%%time\n",
    "\n",
    "seaborn.countplot(x = 'Perpetrator Age', data=homicide, palette=\"husl\")\n",
    "seaborn.plt.show()"
   ]
  },
  {
   "cell_type": "code",
   "execution_count": null,
   "metadata": {},
   "outputs": [],
   "source": [
    "%%time\n",
    "\n",
    "seaborn.countplot(x = 'Perpetrator Race', data=homicide, palette=\"dark\")\n",
    "seaborn.plt.show()"
   ]
  },
  {
   "cell_type": "code",
   "execution_count": null,
   "metadata": {},
   "outputs": [],
   "source": [
    "%%time\n",
    "\n",
    "plt.figure(figsize=(12,12),facecolor='#efefef')\n",
    "seaborn.set()\n",
    "# ax.set_ticklabels(['0%', '20%', '75%', '100%'])\n",
    "ax = seaborn.heatmap(pandas.crosstab(homicide['Perpetrator Sex'],homicide.Weapon).apply(lambda r: r/r.sum(), axis=1), annot=True, fmt=\".0%\", linewidths=.5,cmap='Blues')\n",
    "ax.set_title('Perpetrator Gender vs Weapon Use')\n",
    "cbar = ax.collections[0].colorbar\n",
    "cbar.set_ticks([0, .25, .50, .75, 1])\n",
    "cbar.set_ticklabels(['0%', '25%', '50%',  '75%', '100%'])"
   ]
  },
  {
   "cell_type": "code",
   "execution_count": null,
   "metadata": {},
   "outputs": [],
   "source": [
    "%%time\n",
    "\n",
    "seaborn.countplot(x = 'State', data=homicide, palette=\"husl\")\n",
    "\n",
    "locs, labels = plt.xticks()\n",
    "plt.setp(labels, rotation=90)\n",
    "\n",
    "\n",
    "seaborn.plt.show()"
   ]
  },
  {
   "cell_type": "code",
   "execution_count": null,
   "metadata": {},
   "outputs": [],
   "source": [
    "%%time\n",
    "\n",
    "sexoff = pandas.read_csv(\"./datasets/Sex_Offenders.csv\")"
   ]
  },
  {
   "cell_type": "code",
   "execution_count": null,
   "metadata": {},
   "outputs": [],
   "source": [
    "%time sexoff.head(10)"
   ]
  },
  {
   "cell_type": "code",
   "execution_count": null,
   "metadata": {},
   "outputs": [],
   "source": [
    "%time sexoff.isnull().any()"
   ]
  },
  {
   "cell_type": "code",
   "execution_count": null,
   "metadata": {},
   "outputs": [],
   "source": [
    "%time sexoff.dtypes"
   ]
  },
  {
   "cell_type": "code",
   "execution_count": null,
   "metadata": {},
   "outputs": [],
   "source": [
    "%%time\n",
    "\n",
    "seaborn.countplot(x = 'RACE', data=sexoff, palette=\"dark\")\n",
    "seaborn.plt.show()"
   ]
  },
  {
   "cell_type": "code",
   "execution_count": null,
   "metadata": {},
   "outputs": [],
   "source": [
    "%%time\n",
    "\n",
    "seaborn.countplot(x = 'AGE', data=sexoff, palette=\"dark\")\n",
    "\n",
    "locs, labels = plt.xticks()\n",
    "plt.setp(labels, rotation=90)\n",
    "\n",
    "seaborn.plt.show()"
   ]
  },
  {
   "cell_type": "code",
   "execution_count": null,
   "metadata": {},
   "outputs": [],
   "source": [
    "%%time\n",
    "\n",
    "seaborn.countplot(x = 'GENDER', data=sexoff, palette=\"dark\")\n",
    "seaborn.plt.show()"
   ]
  },
  {
   "cell_type": "code",
   "execution_count": null,
   "metadata": {},
   "outputs": [],
   "source": [
    "%%time\n",
    "\n",
    "seaborn.countplot(x = 'HEIGHT', data=sexoff, palette=\"dark\")\n",
    "\n",
    "locs, labels = plt.xticks()\n",
    "plt.setp(labels, rotation=90)\n",
    "\n",
    "seaborn.plt.show()"
   ]
  },
  {
   "cell_type": "code",
   "execution_count": null,
   "metadata": {},
   "outputs": [],
   "source": [
    "%%time\n",
    "\n",
    "seaborn.countplot(x = 'VICTIM MINOR', data=sexoff, palette=\"dark\")\n",
    "seaborn.plt.show()"
   ]
  },
  {
   "cell_type": "code",
   "execution_count": null,
   "metadata": {
    "scrolled": true
   },
   "outputs": [],
   "source": [
    "%%time\n",
    "\n",
    "seaborn.countplot(x='GENDER', hue= 'VICTIM MINOR', data = sexoff, palette=\"Paired\")\n",
    "seaborn.plt.show()"
   ]
  },
  {
   "cell_type": "code",
   "execution_count": null,
   "metadata": {},
   "outputs": [],
   "source": [
    "%%time\n",
    "\n",
    "gunoff = pandas.read_csv(\"./datasets/Gun_Offenders.csv\")"
   ]
  },
  {
   "cell_type": "code",
   "execution_count": null,
   "metadata": {},
   "outputs": [],
   "source": [
    "%time gunoff.head(10)"
   ]
  },
  {
   "cell_type": "code",
   "execution_count": null,
   "metadata": {},
   "outputs": [],
   "source": [
    "%time gunoff.isnull().any()"
   ]
  },
  {
   "cell_type": "code",
   "execution_count": null,
   "metadata": {},
   "outputs": [],
   "source": [
    "%time gunoff.dtypes"
   ]
  },
  {
   "cell_type": "code",
   "execution_count": null,
   "metadata": {},
   "outputs": [],
   "source": [
    "%%time\n",
    "\n",
    "seaborn.countplot(x = 'race', data=gunoff, palette=\"dark\")\n",
    "seaborn.plt.show()"
   ]
  },
  {
   "cell_type": "code",
   "execution_count": null,
   "metadata": {},
   "outputs": [],
   "source": [
    "%%time\n",
    "\n",
    "seaborn.countplot(x = 'sex', data=gunoff, palette=\"dark\")\n",
    "seaborn.plt.show()"
   ]
  },
  {
   "cell_type": "code",
   "execution_count": null,
   "metadata": {},
   "outputs": [],
   "source": [
    "%%time\n",
    "\n",
    "seaborn.countplot(x = 'state', data=gunoff, palette=\"dark\")\n",
    "\n",
    "locs, labels = plt.xticks()\n",
    "plt.setp(labels, rotation=90)\n",
    "\n",
    "seaborn.plt.show()"
   ]
  },
  {
   "cell_type": "code",
   "execution_count": null,
   "metadata": {
    "collapsed": true
   },
   "outputs": [],
   "source": []
  }
 ],
 "metadata": {
  "kernelspec": {
   "display_name": "Python 3",
   "language": "python",
   "name": "python3"
  },
  "language_info": {
   "codemirror_mode": {
    "name": "ipython",
    "version": 3
   },
   "file_extension": ".py",
   "mimetype": "text/x-python",
   "name": "python",
   "nbconvert_exporter": "python",
   "pygments_lexer": "ipython3",
   "version": "3.6.1"
  }
 },
 "nbformat": 4,
 "nbformat_minor": 1
}
